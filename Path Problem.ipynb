{
 "cells": [
  {
   "cell_type": "code",
   "execution_count": 1,
   "id": "860012c9",
   "metadata": {},
   "outputs": [],
   "source": [
    "import os"
   ]
  },
  {
   "cell_type": "code",
   "execution_count": 23,
   "id": "cd4754ba",
   "metadata": {},
   "outputs": [
    {
     "name": "stdout",
     "output_type": "stream",
     "text": [
      "C:\\SD\\kuwaiba\\kuwaiba_i18n\n",
      "p1 ..\\..\\..\\..\\..\\res\\login_page.ru.png\n",
      "res/..\\..\\..\\..\\..\\res\\login_page.ru.png\n"
     ]
    },
    {
     "data": {
      "text/plain": [
       "'C:\\\\res\\\\login_page.ru.png'"
      ]
     },
     "execution_count": 23,
     "metadata": {},
     "output_type": "execute_result"
    }
   ],
   "source": [
    "res_folder = \"res/\"\n",
    "initial_path = \"/res/login_page.ru.png\"\n",
    "current_cwd = os.getcwd()\n",
    "print(current_cwd)\n",
    "cwd = \"C:\\SD\\kuwaiba\\kuwaiba_i18n\\docs\\source\"\n",
    "p1 = os.path.relpath(initial_path, cwd)\n",
    "print (f\"p1 {p1}\")\n",
    "p2 = os.path.join(res_folder, p1)\n",
    "print(p2)\n",
    "path = os.path.abspath(os.path.join(res_folder, os.path.relpath(initial_path, cwd)))\n",
    "path"
   ]
  },
  {
   "cell_type": "code",
   "execution_count": 12,
   "id": "e0ec2290",
   "metadata": {},
   "outputs": [
    {
     "ename": "SyntaxError",
     "evalue": "invalid syntax (967457120.py, line 1)",
     "output_type": "error",
     "traceback": [
      "\u001b[1;36m  Input \u001b[1;32mIn [12]\u001b[1;36m\u001b[0m\n\u001b[1;33m    kuwaiba cwd =\u001b[0m\n\u001b[1;37m            ^\u001b[0m\n\u001b[1;31mSyntaxError\u001b[0m\u001b[1;31m:\u001b[0m invalid syntax\n"
     ]
    }
   ],
   "source": [
    "kuwaiba cwd =  \n",
    "    /home/docs/checkouts/readthedocs.org/user_builds/kuwaiba-ru/checkouts/latest/docs/source\n",
    "READTHEDOCS_VIRTUALENV_PATH = \n",
    "    /home/docs/checkouts/readthedocs.org/user_builds/kuwaiba-ru/envs/latest\n",
    "    /home/docs/checkouts/readthedocs.org/user_builds/kuwaiba-ru/envs/latest\n",
    "Res Folder: ../../res/\n",
    "READTHEDOCS_OUTPUT = /home/docs/checkouts/readthedocs.org/user_builds/kuwaiba-ru/checkouts/latest/_readthedocs/    \n",
    "    kuwaiba-ru/_readthedocs/html/_images/kroki-36508cc1cff1d58bb4b595e0b4e5aa84862a47b7.ru.svg\n"
   ]
  },
  {
   "cell_type": "code",
   "execution_count": 26,
   "id": "d3c400ee",
   "metadata": {},
   "outputs": [
    {
     "data": {
      "text/plain": [
       "'/home/docs/checkouts/readthedocs.org/user_builds/kuwaiba-ru/checkouts/latest/'"
      ]
     },
     "execution_count": 26,
     "metadata": {},
     "output_type": "execute_result"
    }
   ],
   "source": [
    "cwd = \"/home/docs/checkouts/readthedocs.org/user_builds/kuwaiba-ru/checkouts/latest/docs/source\"\n",
    "env = \"/home/docs/checkouts/readthedocs.org/user_builds/kuwaiba-ru/envs/latest\"\n",
    "rtd_output = \"/home/docs/checkouts/readthedocs.org/user_builds/kuwaiba-ru/checkouts/latest/_readthedocs/\"\n",
    "rtd_working = os.path.commonprefix([cwd, rtd_output])\n",
    "rtd_working\n",
    "#pre = os.path.commonprefix([cwd, env])\n",
    "#root, ext = os.path.splitext(\" kuwaiba-ru/_readthedocs/html/_images/kroki-36508cc1cff1d58bb4b595e0b4e5aa84862a47b7.svg\")\n",
    "#a = pre and root\n",
    "#print(type(a))\n",
    "#o = os.path.dirname(root)\n",
    "#print(type(o))\n",
    "#pre, root, ext, a\n"
   ]
  }
 ],
 "metadata": {
  "kernelspec": {
   "display_name": "Python 3 (ipykernel)",
   "language": "python",
   "name": "python3"
  },
  "language_info": {
   "codemirror_mode": {
    "name": "ipython",
    "version": 3
   },
   "file_extension": ".py",
   "mimetype": "text/x-python",
   "name": "python",
   "nbconvert_exporter": "python",
   "pygments_lexer": "ipython3",
   "version": "3.9.5"
  }
 },
 "nbformat": 4,
 "nbformat_minor": 5
}
