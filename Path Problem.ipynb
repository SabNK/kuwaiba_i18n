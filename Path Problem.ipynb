{
 "cells": [
  {
   "cell_type": "code",
   "execution_count": 1,
   "id": "8dd592b5",
   "metadata": {},
   "outputs": [],
   "source": [
    "import os"
   ]
  },
  {
   "cell_type": "code",
   "execution_count": 6,
   "id": "ccb10c70",
   "metadata": {},
   "outputs": [
    {
     "name": "stdout",
     "output_type": "stream",
     "text": [
      "C:\\SD\\kuwaiba\\kuwaiba_i18n\n"
     ]
    },
    {
     "data": {
      "text/plain": [
       "'C:\\\\res\\\\login_page.ru.png'"
      ]
     },
     "execution_count": 6,
     "metadata": {},
     "output_type": "execute_result"
    }
   ],
   "source": [
    "res_folder = \"../res/\"\n",
    "initial_path = \"/res/login_page.ru.png\"\n",
    "current_cwd = os.getcwd()\n",
    "print(current_cwd)\n",
    "cwd = \"C:\\SD\\kuwaiba\\kuwaiba_i18n\\docs\\source\"\n",
    "path = os.path.abspath(os.path.join(res_folder, os.path.relpath(initial_path, cwd)))\n",
    "path"
   ]
  },
  {
   "cell_type": "code",
   "execution_count": null,
   "id": "2aa00413",
   "metadata": {},
   "outputs": [],
   "source": [
    "kuwaiba cwd =  \n",
    "    /home/docs/checkouts/readthedocs.org/user_builds/kuwaiba-ru/checkouts/latest/docs/source\n",
    "READTHEDOCS_VIRTUALENV_PATH = \n",
    "    /home/docs/checkouts/readthedocs.org/user_builds/kuwaiba-ru/envs/latest\n",
    "READTHEDOCS_OUTPUT =     \n",
    "    _readthedocs/html/_images/kroki-36508cc1cff1d58bb4b595e0b4e5aa84862a47b7.ru.svg"
   ]
  }
 ],
 "metadata": {
  "kernelspec": {
   "display_name": "Python 3 (ipykernel)",
   "language": "python",
   "name": "python3"
  },
  "language_info": {
   "codemirror_mode": {
    "name": "ipython",
    "version": 3
   },
   "file_extension": ".py",
   "mimetype": "text/x-python",
   "name": "python",
   "nbconvert_exporter": "python",
   "pygments_lexer": "ipython3",
   "version": "3.9.5"
  }
 },
 "nbformat": 4,
 "nbformat_minor": 5
}
